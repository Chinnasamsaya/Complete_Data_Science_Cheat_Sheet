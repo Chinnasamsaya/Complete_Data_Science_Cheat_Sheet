{
 "cells": [
  {
   "cell_type": "markdown",
   "id": "96178055",
   "metadata": {},
   "source": [
    "# Cheatsheet for most used numpy codes"
   ]
  },
  {
   "cell_type": "code",
   "execution_count": 103,
   "id": "5e7f1014",
   "metadata": {},
   "outputs": [],
   "source": [
    "# Import numpy package\n",
    "import numpy as np\n",
    "import math"
   ]
  },
  {
   "cell_type": "markdown",
   "id": "c4a6460d",
   "metadata": {},
   "source": [
    "## 1. Creation of array"
   ]
  },
  {
   "cell_type": "markdown",
   "id": "5c6da3c1",
   "metadata": {},
   "source": [
    "### a> Using custom input values"
   ]
  },
  {
   "cell_type": "code",
   "execution_count": 52,
   "id": "4db896b3",
   "metadata": {},
   "outputs": [
    {
     "name": "stdout",
     "output_type": "stream",
     "text": [
      "array =  [1 2 3 4 5]\n",
      "dimensions 1\n",
      "shape =  (5,)\n",
      "data type =  int32\n"
     ]
    }
   ],
   "source": [
    "# 1D array example\n",
    "a = np.array([1,2,3,4,5])\n",
    "print(\"array = \", a)\n",
    "print(\"dimensions\", a.ndim)\n",
    "print(\"shape = \", a.shape)\n",
    "print(\"data type = \", a.dtype)"
   ]
  },
  {
   "cell_type": "code",
   "execution_count": 53,
   "id": "3222d892",
   "metadata": {},
   "outputs": [
    {
     "name": "stdout",
     "output_type": "stream",
     "text": [
      "array = \n",
      "[[ 1  2  3  4  5]\n",
      " [ 7  8  9 10 11]]\n",
      "dimensions 2\n",
      "shape =  (2, 5)\n",
      "data type =  int32\n"
     ]
    }
   ],
   "source": [
    "# 2D array example\n",
    "a = np.array([[1,2,3,4,5],[7,8,9,10,11]])\n",
    "print(\"array = \")\n",
    "print(a)\n",
    "print(\"dimensions\", a.ndim)\n",
    "print(\"shape = \", a.shape)\n",
    "print(\"data type = \", a.dtype)"
   ]
  },
  {
   "cell_type": "markdown",
   "id": "377ffd79",
   "metadata": {},
   "source": [
    "### b> Using samples from python functions"
   ]
  },
  {
   "cell_type": "code",
   "execution_count": 54,
   "id": "ca8efd45",
   "metadata": {},
   "outputs": [
    {
     "name": "stdout",
     "output_type": "stream",
     "text": [
      "[[0. 0. 0.]\n",
      " [0. 0. 0.]]\n",
      "2\n",
      "(2, 3)\n",
      "data type =  float64\n"
     ]
    }
   ],
   "source": [
    "# default value = 0\n",
    "a = np.zeros((2,3))\n",
    "print(a)\n",
    "print(a.ndim)\n",
    "print(a.shape)\n",
    "print(\"data type = \", a.dtype)"
   ]
  },
  {
   "cell_type": "code",
   "execution_count": 55,
   "id": "4a7ec5e1",
   "metadata": {},
   "outputs": [
    {
     "name": "stdout",
     "output_type": "stream",
     "text": [
      "[[1. 1. 1.]\n",
      " [1. 1. 1.]]\n",
      "2\n",
      "(2, 3)\n",
      "data type =  float64\n"
     ]
    }
   ],
   "source": [
    "# default value = 1\n",
    "a = np.ones((2,3))\n",
    "print(a)\n",
    "print(a.ndim)\n",
    "print(a.shape)\n",
    "print(\"data type = \", a.dtype)"
   ]
  },
  {
   "cell_type": "code",
   "execution_count": 56,
   "id": "8820a28b",
   "metadata": {},
   "outputs": [
    {
     "name": "stdout",
     "output_type": "stream",
     "text": [
      "[0 2 4 6 8]\n",
      "1\n",
      "(5,)\n",
      "data type =  int32\n"
     ]
    }
   ],
   "source": [
    "# default value = a range of values with a min , max and interval\n",
    "a = np.arange(0,10,2)\n",
    "print(a)\n",
    "print(a.ndim)\n",
    "print(a.shape)\n",
    "print(\"data type = \", a.dtype)"
   ]
  },
  {
   "cell_type": "code",
   "execution_count": 57,
   "id": "d9beb884",
   "metadata": {},
   "outputs": [
    {
     "name": "stdout",
     "output_type": "stream",
     "text": [
      "[ 0.          0.52631579  1.05263158  1.57894737  2.10526316  2.63157895\n",
      "  3.15789474  3.68421053  4.21052632  4.73684211  5.26315789  5.78947368\n",
      "  6.31578947  6.84210526  7.36842105  7.89473684  8.42105263  8.94736842\n",
      "  9.47368421 10.        ]\n",
      "1\n",
      "(20,)\n",
      "data type =  float64\n"
     ]
    }
   ],
   "source": [
    "# In the above example their is limitation that the it only selects integer values. What is we also want to select a \n",
    "# default value = a range of values with a min , max and interval\n",
    "a = np.linspace(0,10,20)\n",
    "print(a)\n",
    "print(a.ndim)\n",
    "print(a.shape)\n",
    "print(\"data type = \", a.dtype)"
   ]
  },
  {
   "cell_type": "code",
   "execution_count": 58,
   "id": "e78a1961",
   "metadata": {},
   "outputs": [
    {
     "name": "stdout",
     "output_type": "stream",
     "text": [
      "[0.44280624 0.71043043 0.70088267 0.53803993 0.5884349  0.92645372\n",
      " 0.28939858 0.01724476 0.66110133 0.67848413 0.2987068  0.73595529]\n",
      "1\n",
      "(12,)\n",
      "data type =  float64\n"
     ]
    }
   ],
   "source": [
    "# default value = samples from uniforn distribution\n",
    "a = np.random.rand(12)\n",
    "print(a)\n",
    "print(a.ndim)\n",
    "print(a.shape)\n",
    "print(\"data type = \", a.dtype)"
   ]
  },
  {
   "cell_type": "markdown",
   "id": "28b1ec83",
   "metadata": {},
   "source": [
    "## 2. Manipulating an array"
   ]
  },
  {
   "cell_type": "markdown",
   "id": "a1b56f49",
   "metadata": {},
   "source": [
    "### a> Selecting an element"
   ]
  },
  {
   "cell_type": "code",
   "execution_count": 61,
   "id": "8c4627ee",
   "metadata": {},
   "outputs": [
    {
     "name": "stdout",
     "output_type": "stream",
     "text": [
      "2\n",
      "7\n",
      "17\n"
     ]
    }
   ],
   "source": [
    "# Selecting a single element from an array\n",
    "a = np.array([[1,3,5,7],[1,2,3,4],[6,4,6,17]])\n",
    "\n",
    "print(a[1,1])\n",
    "print(a[0,3])\n",
    "print(a[2,3])"
   ]
  },
  {
   "cell_type": "code",
   "execution_count": 45,
   "id": "230fb7a5",
   "metadata": {},
   "outputs": [
    {
     "data": {
      "text/plain": [
       "array([ 2,  7, 17])"
      ]
     },
     "execution_count": 45,
     "metadata": {},
     "output_type": "execute_result"
    }
   ],
   "source": [
    "# Selecting multiple arrays in a single line\n",
    "a[[1,0,2],[1,3,3]]"
   ]
  },
  {
   "cell_type": "code",
   "execution_count": 48,
   "id": "1f848cf1",
   "metadata": {},
   "outputs": [
    {
     "data": {
      "text/plain": [
       "array([ 5,  7,  4,  6,  4,  6, 17])"
      ]
     },
     "execution_count": 48,
     "metadata": {},
     "output_type": "execute_result"
    }
   ],
   "source": [
    "# Conditional element selection\n",
    "a[a>3]"
   ]
  },
  {
   "cell_type": "markdown",
   "id": "41d46c78",
   "metadata": {},
   "source": [
    "### b> Slicing an array"
   ]
  },
  {
   "cell_type": "code",
   "execution_count": 64,
   "id": "16adb5f3",
   "metadata": {},
   "outputs": [
    {
     "name": "stdout",
     "output_type": "stream",
     "text": [
      "2\n"
     ]
    },
    {
     "data": {
      "text/plain": [
       "array([[ 1,  3,  5,  7],\n",
       "       [ 1,  2,  3,  4],\n",
       "       [ 6,  4,  6, 17]])"
      ]
     },
     "execution_count": 64,
     "metadata": {},
     "output_type": "execute_result"
    }
   ],
   "source": [
    "print(a.ndim)\n",
    "a[:,:] # Number of commas or slices would be same as dimension of the array"
   ]
  },
  {
   "cell_type": "code",
   "execution_count": 65,
   "id": "b943a128",
   "metadata": {},
   "outputs": [
    {
     "data": {
      "text/plain": [
       "array([[ 1,  2,  3,  4],\n",
       "       [ 6,  4,  6, 17]])"
      ]
     },
     "execution_count": 65,
     "metadata": {},
     "output_type": "execute_result"
    }
   ],
   "source": [
    "# From 2nd row onwards\n",
    "a[1:,:]"
   ]
  },
  {
   "cell_type": "code",
   "execution_count": 68,
   "id": "74dfc958",
   "metadata": {},
   "outputs": [
    {
     "data": {
      "text/plain": [
       "array([[ 6,  4,  6, 17]])"
      ]
     },
     "execution_count": 68,
     "metadata": {},
     "output_type": "execute_result"
    }
   ],
   "source": [
    "# From 3rd row onwards\n",
    "a[2:,:]"
   ]
  },
  {
   "cell_type": "code",
   "execution_count": 69,
   "id": "ba649340",
   "metadata": {},
   "outputs": [
    {
     "data": {
      "text/plain": [
       "array([[ 3,  4],\n",
       "       [ 6, 17]])"
      ]
     },
     "execution_count": 69,
     "metadata": {},
     "output_type": "execute_result"
    }
   ],
   "source": [
    "# From 2nd row and 3rd column onwards\n",
    "a[1:,2:]"
   ]
  },
  {
   "cell_type": "markdown",
   "id": "18410df5",
   "metadata": {},
   "source": [
    "### c. Transforming an array"
   ]
  },
  {
   "cell_type": "code",
   "execution_count": 77,
   "id": "00c19fb7",
   "metadata": {},
   "outputs": [
    {
     "name": "stdout",
     "output_type": "stream",
     "text": [
      "[ 1.          1.31034483  1.62068966  1.93103448  2.24137931  2.55172414\n",
      "  2.86206897  3.17241379  3.48275862  3.79310345  4.10344828  4.4137931\n",
      "  4.72413793  5.03448276  5.34482759  5.65517241  5.96551724  6.27586207\n",
      "  6.5862069   6.89655172  7.20689655  7.51724138  7.82758621  8.13793103\n",
      "  8.44827586  8.75862069  9.06896552  9.37931034  9.68965517 10.        ]\n",
      "(30,)\n",
      "1\n"
     ]
    }
   ],
   "source": [
    "# Reshaping the dimensions of an array\n",
    "\n",
    "a_1d_array = np.linspace(1,10,30)\n",
    "print(a_1d_array)\n",
    "print(a_1d_array.shape)\n",
    "print(a_1d_array.ndim)"
   ]
  },
  {
   "cell_type": "code",
   "execution_count": 83,
   "id": "2435e129",
   "metadata": {},
   "outputs": [
    {
     "name": "stdout",
     "output_type": "stream",
     "text": [
      "[[ 1.          1.31034483  1.62068966]\n",
      " [ 1.93103448  2.24137931  2.55172414]\n",
      " [ 2.86206897  3.17241379  3.48275862]\n",
      " [ 3.79310345  4.10344828  4.4137931 ]\n",
      " [ 4.72413793  5.03448276  5.34482759]\n",
      " [ 5.65517241  5.96551724  6.27586207]\n",
      " [ 6.5862069   6.89655172  7.20689655]\n",
      " [ 7.51724138  7.82758621  8.13793103]\n",
      " [ 8.44827586  8.75862069  9.06896552]\n",
      " [ 9.37931034  9.68965517 10.        ]]\n",
      "(10, 3)\n",
      "2\n"
     ]
    }
   ],
   "source": [
    "# Reshaping it into a 10*3 array and 5*2*3 array\n",
    "\n",
    "a_2d_array = a_1d_array.reshape(10,3)\n",
    "print(a_2d_array)\n",
    "print(a_2d_array.shape)\n",
    "print(a_2d_array.ndim)"
   ]
  },
  {
   "cell_type": "code",
   "execution_count": 82,
   "id": "dcf0d75a",
   "metadata": {},
   "outputs": [
    {
     "name": "stdout",
     "output_type": "stream",
     "text": [
      "[[[ 1.          1.31034483  1.62068966]\n",
      "  [ 1.93103448  2.24137931  2.55172414]]\n",
      "\n",
      " [[ 2.86206897  3.17241379  3.48275862]\n",
      "  [ 3.79310345  4.10344828  4.4137931 ]]\n",
      "\n",
      " [[ 4.72413793  5.03448276  5.34482759]\n",
      "  [ 5.65517241  5.96551724  6.27586207]]\n",
      "\n",
      " [[ 6.5862069   6.89655172  7.20689655]\n",
      "  [ 7.51724138  7.82758621  8.13793103]]\n",
      "\n",
      " [[ 8.44827586  8.75862069  9.06896552]\n",
      "  [ 9.37931034  9.68965517 10.        ]]]\n",
      "(5, 2, 3)\n",
      "3\n"
     ]
    }
   ],
   "source": [
    "a_3d_array = a_1d_array.reshape(5,2,3)\n",
    "print(a_3d_array)\n",
    "print(a_3d_array.shape)\n",
    "print(a_3d_array.ndim)"
   ]
  },
  {
   "cell_type": "code",
   "execution_count": 91,
   "id": "814134ea",
   "metadata": {},
   "outputs": [
    {
     "name": "stdout",
     "output_type": "stream",
     "text": [
      "[[ 1.          1.93103448  2.86206897  3.79310345  4.72413793  5.65517241\n",
      "   6.5862069   7.51724138  8.44827586  9.37931034]\n",
      " [ 1.31034483  2.24137931  3.17241379  4.10344828  5.03448276  5.96551724\n",
      "   6.89655172  7.82758621  8.75862069  9.68965517]\n",
      " [ 1.62068966  2.55172414  3.48275862  4.4137931   5.34482759  6.27586207\n",
      "   7.20689655  8.13793103  9.06896552 10.        ]]\n",
      "2\n",
      "(3, 10)\n"
     ]
    }
   ],
   "source": [
    "# Transposing a 2D matrix array\n",
    "transposed_2d_array = np.transpose(a_2d_array)\n",
    "print(transposed_2d_array)\n",
    "print(transposed_2d_array.ndim)\n",
    "print(transposed_2d_array.shape)\n"
   ]
  },
  {
   "cell_type": "code",
   "execution_count": 96,
   "id": "8135c08c",
   "metadata": {},
   "outputs": [
    {
     "name": "stdout",
     "output_type": "stream",
     "text": [
      "(30,)\n",
      "(1, 30)\n"
     ]
    }
   ],
   "source": [
    "# Change a row array to a column one\n",
    "b = a_1d_array.reshape(1,-1)\n",
    "print(a_1d_array.shape)\n",
    "print(b.shape)"
   ]
  },
  {
   "cell_type": "markdown",
   "id": "c243cecd",
   "metadata": {},
   "source": [
    "## Mathematical Operations on array"
   ]
  },
  {
   "cell_type": "code",
   "execution_count": 98,
   "id": "c327f860",
   "metadata": {},
   "outputs": [
    {
     "name": "stdout",
     "output_type": "stream",
     "text": [
      "165.0\n",
      "10.0\n",
      "1.0\n",
      "5.5\n"
     ]
    }
   ],
   "source": [
    "# Basic selection and operations with expected scalar output\n",
    "print(a_1d_array.sum())\n",
    "print(a_1d_array.max())\n",
    "print(a_1d_array.min())\n",
    "print(a_1d_array.mean())"
   ]
  },
  {
   "cell_type": "code",
   "execution_count": 104,
   "id": "c83991c9",
   "metadata": {},
   "outputs": [
    {
     "name": "stdout",
     "output_type": "stream",
     "text": [
      "[11 13 15]\n",
      "[-9 -9 -9]\n",
      "[10 22 36]\n",
      "[0.1        0.18181818 0.25      ]\n",
      "[1 2 3]\n"
     ]
    }
   ],
   "source": [
    "# Array output based on array operations\n",
    "a = np.array([1,2,3])\n",
    "\n",
    "b = np.array([10,11,12])\n",
    "\n",
    "# Addition\n",
    "print(a+b)\n",
    "\n",
    "# Subtraction\n",
    "print(a-b)\n",
    "\n",
    "# Multiplication (Element wise)\n",
    "print(a*b)\n",
    "\n",
    "# Division \n",
    "print(a/b)\n",
    "\n",
    "# Remainder\n",
    "print(a%b)"
   ]
  },
  {
   "cell_type": "code",
   "execution_count": null,
   "id": "db096b3c",
   "metadata": {},
   "outputs": [],
   "source": [
    "# Matrix multiplications"
   ]
  },
  {
   "cell_type": "code",
   "execution_count": null,
   "id": "45534619",
   "metadata": {},
   "outputs": [],
   "source": []
  },
  {
   "cell_type": "markdown",
   "id": "b754d3bd",
   "metadata": {},
   "source": [
    "# References\n",
    "\n",
    "1. "
   ]
  }
 ],
 "metadata": {
  "kernelspec": {
   "display_name": "Python 3 (ipykernel)",
   "language": "python",
   "name": "python3"
  },
  "language_info": {
   "codemirror_mode": {
    "name": "ipython",
    "version": 3
   },
   "file_extension": ".py",
   "mimetype": "text/x-python",
   "name": "python",
   "nbconvert_exporter": "python",
   "pygments_lexer": "ipython3",
   "version": "3.11.3"
  }
 },
 "nbformat": 4,
 "nbformat_minor": 5
}
